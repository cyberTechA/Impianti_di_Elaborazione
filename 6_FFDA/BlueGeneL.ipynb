{
 "cells": [
  {
   "cell_type": "markdown",
   "metadata": {},
   "source": [
    "# Field Failure Data Analysis"
   ]
  },
  {
   "cell_type": "markdown",
   "metadata": {
    "heading_collapsed": true
   },
   "source": [
    "## Librerie"
   ]
  },
  {
   "cell_type": "code",
   "execution_count": 1,
   "metadata": {
    "hidden": true
   },
   "outputs": [],
   "source": [
    "# Data Analysis\n",
    "import pandas as pd\n",
    "\n",
    "# Data Visualization\n",
    "from matplotlib import pyplot as plt\n",
    "from matplotlib import cm\n",
    "import seaborn as sns\n",
    "\n",
    "\n",
    "# Reliability\n",
    "\n",
    "from reliability.Probability_plotting import plot_points\n",
    "from statsmodels.distributions.empirical_distribution import ECDF\n",
    "\n",
    "# Utilities\n",
    "import os\n",
    "import numpy as np\n"
   ]
  },
  {
   "cell_type": "markdown",
   "metadata": {
    "heading_collapsed": true
   },
   "source": [
    "## Funzioni"
   ]
  },
  {
   "cell_type": "code",
   "execution_count": 2,
   "metadata": {
    "hidden": true
   },
   "outputs": [],
   "source": [
    "def sensitivity_analysis(dataframe, c_wins, filepath):\n",
    "    print('Creazione del file', filepath, 'potrebbe richiedere del tempo...\\n')\n",
    "    tuples = []  # Lista per memorizzare il numero di tuple per ogni finestra\n",
    "\n",
    "    for win in c_wins:\n",
    "        tup = 1  # Inizializza il conteggio delle tuple a 1\n",
    "        prev = int(dataframe.loc[0, 'Timestamp'])  # Timestamp del primo elemento nel dataframe\n",
    "\n",
    "        for index in range(dataframe.shape[0] - 1):\n",
    "            succ = int(dataframe.loc[index + 1, 'Timestamp'])  # Timestamp dell'elemento successivo\n",
    "            if succ - prev >= win:  # Verifica se la differenza tra i timestamp soddisfa la finestra\n",
    "                tup = tup + 1  # Incrementa il conteggio delle tuple\n",
    "            prev = succ  # Aggiorna il timestamp precedente con quello successivo\n",
    "\n",
    "        tuples.append(tup)  # Aggiunge il numero di tuple per la finestra corrente alla lista\n",
    "\n",
    "    df_sens = pd.DataFrame(data={'Window': c_wins, 'Tuples': tuples})  # Crea un nuovo dataframe con le finestre e le tuple\n",
    "    df_sens.to_csv(filepath)  # Salva il dataframe in un file CSV nel percorso specificato\n",
    "\n",
    "    return df_sens  # Restituisce il dataframe risultante\n",
    "    "
   ]
  },
  {
   "cell_type": "code",
   "execution_count": 3,
   "metadata": {
    "hidden": true
   },
   "outputs": [],
   "source": [
    "def tupling(dataframe, c_win, filepath):\n",
    "    print('Creazione del file', filepath, 'potrebbe richiedere del tempo...\\n')\n",
    "    \n",
    "    tup = 0  # Contatore delle tuple\n",
    "    prev = int(dataframe.loc[0, 'Timestamp'])  # Timestamp del primo elemento nel dataframe\n",
    "    dataframe.loc[0, 'Tuple'] = 0  # Imposta il valore di Tuple per il primo elemento a 0\n",
    "\n",
    "    for index in range(dataframe.shape[0] - 1):\n",
    "        succ = int(dataframe.loc[index + 1, 'Timestamp'])  # Timestamp dell'elemento successivo\n",
    "        if succ - prev >= c_win:  # Verifica se la differenza tra i timestamp soddisfa la finestra\n",
    "            tup = tup + 1  # Incrementa il conteggio delle tuple\n",
    "        dataframe.loc[index + 1, 'Tuple'] = tup  # Assegna il valore di tup a Tuple per l'elemento corrente\n",
    "        prev = succ  # Aggiorna il timestamp precedente con quello successivo\n",
    "\n",
    "    dataframe.to_csv(filepath)  # Salva il dataframe in un file CSV nel percorso specificato\n",
    "\n",
    "    return dataframe  # Restituisce il dataframe risultante\n"
   ]
  },
  {
   "cell_type": "code",
   "execution_count": 4,
   "metadata": {
    "hidden": true
   },
   "outputs": [],
   "source": [
    "def statistics(dataframe):\n",
    "    df_stat = pd.DataFrame(columns=['# Entries', 'Start time', 'End time', 'Length', 'Density', 'Interarrival'])\n",
    "    # Numero di elementi per ciascuna tupla\n",
    "    df_stat['# Entries'] = dataframe.groupby(by='Tuple').count()['Timestamp']\n",
    "    # Start time per ciascuna tupla\n",
    "    df_stat['Start time'] =  dataframe.groupby(by='Tuple').min(numeric_only=True)['Timestamp']\n",
    "    # End time per ciascuna tupla\n",
    "    df_stat['End time'] =  dataframe.groupby(by='Tuple').max(numeric_only=True)['Timestamp']\n",
    "    # Calcolo della durata per ciascuna tupla\n",
    "    df_stat['Length'] =  df_stat['End time'] - df_stat['Start time']\n",
    "     # Calcolo della densità per ciascuna tupla\n",
    "    df_stat['Density'] = df_stat['# Entries'] / df_stat['Length']\n",
    "    # Calcolo dell'interarrivo tra le tuple\n",
    "    df_temp = pd.concat([pd.DataFrame(data={'Start time': [np.nan]}), df_stat], ignore_index=True)\n",
    "    df_stat['Interarrival'] = (df_stat['Start time'] - df_temp['End time']).dropna().astype(int)\n",
    "        \n",
    "    return df_stat"
   ]
  },
  {
   "cell_type": "markdown",
   "metadata": {},
   "source": [
    "## Caricamento BlueGeneL"
   ]
  },
  {
   "cell_type": "code",
   "execution_count": 5,
   "metadata": {},
   "outputs": [
    {
     "name": "stdout",
     "output_type": "stream",
     "text": [
      "Il file di log ha 125624 righe e 8 colonne.\n"
     ]
    },
    {
     "data": {
      "text/html": [
       "<div>\n",
       "<style scoped>\n",
       "    .dataframe tbody tr th:only-of-type {\n",
       "        vertical-align: middle;\n",
       "    }\n",
       "\n",
       "    .dataframe tbody tr th {\n",
       "        vertical-align: top;\n",
       "    }\n",
       "\n",
       "    .dataframe thead th {\n",
       "        text-align: right;\n",
       "    }\n",
       "</style>\n",
       "<table border=\"1\" class=\"dataframe\">\n",
       "  <thead>\n",
       "    <tr style=\"text-align: right;\">\n",
       "      <th></th>\n",
       "      <th>Timestamp</th>\n",
       "      <th>ID-Node</th>\n",
       "      <th>Rack</th>\n",
       "      <th>Midplane</th>\n",
       "      <th>Node</th>\n",
       "      <th>Card</th>\n",
       "      <th>Card type</th>\n",
       "      <th>Message</th>\n",
       "    </tr>\n",
       "  </thead>\n",
       "  <tbody>\n",
       "    <tr>\n",
       "      <th>0</th>\n",
       "      <td>1128621350</td>\n",
       "      <td>R00-M0-N0</td>\n",
       "      <td>R00</td>\n",
       "      <td>M0</td>\n",
       "      <td>N0</td>\n",
       "      <td>J18-U01</td>\n",
       "      <td>I-O</td>\n",
       "      <td>Lustre mount FAILED : bglio2 : block_id : loca...</td>\n",
       "    </tr>\n",
       "    <tr>\n",
       "      <th>1</th>\n",
       "      <td>1128621350</td>\n",
       "      <td>R01-M1-N0</td>\n",
       "      <td>R01</td>\n",
       "      <td>M1</td>\n",
       "      <td>N0</td>\n",
       "      <td>J18-U11</td>\n",
       "      <td>I-O</td>\n",
       "      <td>Lustre mount FAILED : bglio21 : block_id : loc...</td>\n",
       "    </tr>\n",
       "    <tr>\n",
       "      <th>2</th>\n",
       "      <td>1128621351</td>\n",
       "      <td>R07-M0-NC</td>\n",
       "      <td>R07</td>\n",
       "      <td>M0</td>\n",
       "      <td>NC</td>\n",
       "      <td>J18-U01</td>\n",
       "      <td>I-O</td>\n",
       "      <td>Lustre mount FAILED : bglio124 : block_id : lo...</td>\n",
       "    </tr>\n",
       "    <tr>\n",
       "      <th>3</th>\n",
       "      <td>1128621351</td>\n",
       "      <td>R00-M0-N4</td>\n",
       "      <td>R00</td>\n",
       "      <td>M0</td>\n",
       "      <td>N4</td>\n",
       "      <td>J18-U01</td>\n",
       "      <td>I-O</td>\n",
       "      <td>Lustre mount FAILED : bglio4 : block_id : loca...</td>\n",
       "    </tr>\n",
       "    <tr>\n",
       "      <th>4</th>\n",
       "      <td>1128621351</td>\n",
       "      <td>R02-M0-N4</td>\n",
       "      <td>R02</td>\n",
       "      <td>M0</td>\n",
       "      <td>N4</td>\n",
       "      <td>J18-U01</td>\n",
       "      <td>I-O</td>\n",
       "      <td>Lustre mount FAILED : bglio36 : block_id : loc...</td>\n",
       "    </tr>\n",
       "  </tbody>\n",
       "</table>\n",
       "</div>"
      ],
      "text/plain": [
       "    Timestamp    ID-Node Rack Midplane Node     Card Card type                                            Message\n",
       "0  1128621350  R00-M0-N0  R00       M0   N0  J18-U01       I-O  Lustre mount FAILED : bglio2 : block_id : loca...\n",
       "1  1128621350  R01-M1-N0  R01       M1   N0  J18-U11       I-O  Lustre mount FAILED : bglio21 : block_id : loc...\n",
       "2  1128621351  R07-M0-NC  R07       M0   NC  J18-U01       I-O  Lustre mount FAILED : bglio124 : block_id : lo...\n",
       "3  1128621351  R00-M0-N4  R00       M0   N4  J18-U01       I-O  Lustre mount FAILED : bglio4 : block_id : loca...\n",
       "4  1128621351  R02-M0-N4  R02       M0   N4  J18-U01       I-O  Lustre mount FAILED : bglio36 : block_id : loc..."
      ]
     },
     "execution_count": 5,
     "metadata": {},
     "output_type": "execute_result"
    }
   ],
   "source": [
    "# Legge il file di log 'BGLErrorLog.txt' come dataframe, assegnando i nomi alle colonne\n",
    "# 'Timestamp', 'ID-Node', 'Rack', 'Midplane', 'Node', 'Card', 'Card type', 'Message'.\n",
    "# Specifica anche i tipi di dati per alcune colonne.\n",
    "df_bgl = pd.read_csv('2_BlueGeneL/BGLErrorLog.txt', names=['Timestamp', 'ID-Node', 'Rack', 'Midplane', 'Node', 'Card', 'Card type', 'Message'], dtype={'Rack': object, 'Midplane': object}, low_memory=False)\n",
    "\n",
    "# Estrapola l'ID del nodo dalla colonna 'Timestamp' e lo assegna alla colonna 'ID-Node'\n",
    "df_bgl.loc[:, 'ID-Node'] = df_bgl.loc[:, 'Timestamp'].str.split(' ', n=3).str[1]\n",
    "\n",
    "# Estrapola il numero del rack dall'ID del nodo e lo assegna alla colonna 'Rack'\n",
    "df_bgl.loc[:, 'Rack'] = df_bgl.loc[:, 'ID-Node'].str.split('-', n=2).str[0]\n",
    "\n",
    "# Estrapola il numero del midplane dall'ID del nodo e lo assegna alla colonna 'Midplane'\n",
    "df_bgl.loc[:, 'Midplane'] = df_bgl.loc[:, 'ID-Node'].str.split('-', n=2).str[1]\n",
    "\n",
    "# Estrapola il numero del nodo dall'ID del nodo e lo assegna alla colonna 'Node'\n",
    "df_bgl.loc[:, 'Node'] = df_bgl.loc[:, 'ID-Node'].str.split('-', n=2).str[2]\n",
    "\n",
    "# Estrapola il valore della carta dalla colonna 'Timestamp' e lo assegna alla colonna 'Card'\n",
    "df_bgl.loc[:, 'Card'] = df_bgl.loc[:, 'Timestamp'].str.split(' ', n=3).str[2]\n",
    "\n",
    "# Assegna il valore 'I-O' alla colonna 'Card type' per le righe in cui la colonna 'Card' contiene 'J18'\n",
    "# Assegna il valore 'computation' alla colonna 'Card type' per le righe in cui la colonna 'Card' non contiene 'J18'\n",
    "df_bgl.loc[df_bgl['Card'].str.contains('J18'), 'Card type'] = 'I-O'\n",
    "df_bgl.loc[~df_bgl['Card'].str.contains('J18'), 'Card type'] = 'computation'\n",
    "\n",
    "# Estrapola il messaggio dalla colonna 'Timestamp', rimuovendo spazi iniziali e finali, e lo assegna alla colonna 'Message'\n",
    "df_bgl.loc[:, 'Message'] = df_bgl.loc[:, 'Timestamp'].str.split(' ', n=3).str[3].str.strip()\n",
    "\n",
    "# Estrapola la data dalla colonna 'Timestamp' e sovrascrive la colonna 'Timestamp' con il valore estratto\n",
    "df_bgl.loc[:, 'Timestamp'] = df_bgl.loc[:, 'Timestamp'].str.split(' ', n=3).str[0]\n",
    "\n",
    "# Stampa il numero di righe e colonne del dataframe 'df_bgl'\n",
    "print('Il file di log ha ' + str(df_bgl.shape[0]) + ' righe e ' + str(df_bgl.shape[1]) + ' colonne.')\n",
    "\n",
    "# Visualizza le prime righe del dataframe 'df_bgl'\n",
    "df_bgl.head()\n"
   ]
  },
  {
   "cell_type": "markdown",
   "metadata": {},
   "source": [
    "# Sistema (Blue Gene/L)"
   ]
  },
  {
   "cell_type": "markdown",
   "metadata": {},
   "source": [
    "### Coalescenza Termporale"
   ]
  },
  {
   "cell_type": "markdown",
   "metadata": {},
   "source": [
    "#### Analisi di Sensitività"
   ]
  },
  {
   "cell_type": "code",
   "execution_count": 6,
   "metadata": {},
   "outputs": [
    {
     "data": {
      "text/html": [
       "<div>\n",
       "<style scoped>\n",
       "    .dataframe tbody tr th:only-of-type {\n",
       "        vertical-align: middle;\n",
       "    }\n",
       "\n",
       "    .dataframe tbody tr th {\n",
       "        vertical-align: top;\n",
       "    }\n",
       "\n",
       "    .dataframe thead th {\n",
       "        text-align: right;\n",
       "    }\n",
       "</style>\n",
       "<table border=\"1\" class=\"dataframe\">\n",
       "  <thead>\n",
       "    <tr style=\"text-align: right;\">\n",
       "      <th></th>\n",
       "      <th>Cwins</th>\n",
       "    </tr>\n",
       "  </thead>\n",
       "  <tbody>\n",
       "    <tr>\n",
       "      <th>0</th>\n",
       "      <td>10</td>\n",
       "    </tr>\n",
       "    <tr>\n",
       "      <th>1</th>\n",
       "      <td>50</td>\n",
       "    </tr>\n",
       "    <tr>\n",
       "      <th>2</th>\n",
       "      <td>100</td>\n",
       "    </tr>\n",
       "    <tr>\n",
       "      <th>3</th>\n",
       "      <td>120</td>\n",
       "    </tr>\n",
       "    <tr>\n",
       "      <th>4</th>\n",
       "      <td>150</td>\n",
       "    </tr>\n",
       "  </tbody>\n",
       "</table>\n",
       "</div>"
      ],
      "text/plain": [
       "   Cwins\n",
       "0     10\n",
       "1     50\n",
       "2    100\n",
       "3    120\n",
       "4    150"
      ]
     },
     "execution_count": 6,
     "metadata": {},
     "output_type": "execute_result"
    }
   ],
   "source": [
    "# Legge il file 'tentative-Cwin.txt' e carica i dati nel DataFrame df_mercury_cwins.\n",
    "# Assegna il nome di colonna 'Cwins'.\n",
    "df_mercury_cwins = pd.read_table('2_BlueGeneL/tentative-Cwin.txt', names=['Cwins'])\n",
    "\n",
    "# Stampa le prime righe del DataFrame df_mercury_cwins.\n",
    "df_mercury_cwins.head()"
   ]
  },
  {
   "cell_type": "code",
   "execution_count": 7,
   "metadata": {},
   "outputs": [
    {
     "name": "stdout",
     "output_type": "stream",
     "text": [
      "Creazione del file 2_BlueGeneL/Coalescenza_Temporale/Csv/BlueGeneL-Sensitivity.csv potrebbe richiedere del tempo...\n",
      "\n"
     ]
    },
    {
     "data": {
      "image/png": "[encoded data removed]",
      "text/plain": [
       "<Figure size 1200x600 with 1 Axes>"
      ]
     },
     "metadata": {},
     "output_type": "display_data"
    }
   ],
   "source": [
    "\n",
    "\n",
    "# Estrae i valori della colonna 'Cwins' dal DataFrame df_mercury_cwins e li assegna a c_wins.\n",
    "c_wins = df_mercury_cwins['Cwins'].values\n",
    "\n",
    "# Definisce il percorso del file CSV in cui verrà salvato il risultato dell'analisi di sensibilità.\n",
    "filepath = '2_BlueGeneL/Coalescenza_Temporale/Csv/BlueGeneL-Sensitivity.csv'\n",
    "\n",
    "df_bgl_sensitivity = sensitivity_analysis(df_bgl, c_wins, filepath)\n",
    "\n",
    "plt.figure(figsize=(12,6))\n",
    "plt.plot(df_bgl_sensitivity['Window'],df_bgl_sensitivity['Tuples'], label = '# Tuples',marker='x',color='blue')\n",
    "plt.xlabel('Window (s)')\n",
    "plt.ylabel('Tuples')\n",
    "plt.legend()\n",
    "plt.grid()\n",
    "plt.savefig(\"2_BlueGeneL/Coalescenza_Temporale/immagini/BGL_System_Sensitivity.png\", format = \"png\",bbox_inches='tight')\n",
    "plt.show()"
   ]
  },
  {
   "cell_type": "markdown",
   "metadata": {},
   "source": [
    "#### Tupling"
   ]
  },
  {
   "cell_type": "code",
   "execution_count": 8,
   "metadata": {},
   "outputs": [
    {
     "name": "stdout",
     "output_type": "stream",
     "text": [
      "Creazione del file 2_BlueGeneL/Coalescenza_Temporale/Csv/BGL-Tuple.csv potrebbe richiedere del tempo...\n",
      "\n"
     ]
    },
    {
     "data": {
      "text/html": [
       "<div>\n",
       "<style scoped>\n",
       "    .dataframe tbody tr th:only-of-type {\n",
       "        vertical-align: middle;\n",
       "    }\n",
       "\n",
       "    .dataframe tbody tr th {\n",
       "        vertical-align: top;\n",
       "    }\n",
       "\n",
       "    .dataframe thead th {\n",
       "        text-align: right;\n",
       "    }\n",
       "</style>\n",
       "<table border=\"1\" class=\"dataframe\">\n",
       "  <thead>\n",
       "    <tr style=\"text-align: right;\">\n",
       "      <th></th>\n",
       "      <th>Timestamp</th>\n",
       "      <th>ID-Node</th>\n",
       "      <th>Rack</th>\n",
       "      <th>Midplane</th>\n",
       "      <th>Node</th>\n",
       "      <th>Card</th>\n",
       "      <th>Card type</th>\n",
       "      <th>Message</th>\n",
       "      <th>Tuple</th>\n",
       "    </tr>\n",
       "  </thead>\n",
       "  <tbody>\n",
       "    <tr>\n",
       "      <th>0</th>\n",
       "      <td>1128621350</td>\n",
       "      <td>R00-M0-N0</td>\n",
       "      <td>R00</td>\n",
       "      <td>M0</td>\n",
       "      <td>N0</td>\n",
       "      <td>J18-U01</td>\n",
       "      <td>I-O</td>\n",
       "      <td>Lustre mount FAILED : bglio2 : block_id : loca...</td>\n",
       "      <td>0</td>\n",
       "    </tr>\n",
       "    <tr>\n",
       "      <th>1</th>\n",
       "      <td>1128621350</td>\n",
       "      <td>R01-M1-N0</td>\n",
       "      <td>R01</td>\n",
       "      <td>M1</td>\n",
       "      <td>N0</td>\n",
       "      <td>J18-U11</td>\n",
       "      <td>I-O</td>\n",
       "      <td>Lustre mount FAILED : bglio21 : block_id : loc...</td>\n",
       "      <td>0</td>\n",
       "    </tr>\n",
       "    <tr>\n",
       "      <th>2</th>\n",
       "      <td>1128621351</td>\n",
       "      <td>R07-M0-NC</td>\n",
       "      <td>R07</td>\n",
       "      <td>M0</td>\n",
       "      <td>NC</td>\n",
       "      <td>J18-U01</td>\n",
       "      <td>I-O</td>\n",
       "      <td>Lustre mount FAILED : bglio124 : block_id : lo...</td>\n",
       "      <td>0</td>\n",
       "    </tr>\n",
       "    <tr>\n",
       "      <th>3</th>\n",
       "      <td>1128621351</td>\n",
       "      <td>R00-M0-N4</td>\n",
       "      <td>R00</td>\n",
       "      <td>M0</td>\n",
       "      <td>N4</td>\n",
       "      <td>J18-U01</td>\n",
       "      <td>I-O</td>\n",
       "      <td>Lustre mount FAILED : bglio4 : block_id : loca...</td>\n",
       "      <td>0</td>\n",
       "    </tr>\n",
       "    <tr>\n",
       "      <th>4</th>\n",
       "      <td>1128621351</td>\n",
       "      <td>R02-M0-N4</td>\n",
       "      <td>R02</td>\n",
       "      <td>M0</td>\n",
       "      <td>N4</td>\n",
       "      <td>J18-U01</td>\n",
       "      <td>I-O</td>\n",
       "      <td>Lustre mount FAILED : bglio36 : block_id : loc...</td>\n",
       "      <td>0</td>\n",
       "    </tr>\n",
       "  </tbody>\n",
       "</table>\n",
       "</div>"
      ],
      "text/plain": [
       "    Timestamp    ID-Node Rack Midplane Node     Card Card type                                            Message  Tuple\n",
       "0  1128621350  R00-M0-N0  R00       M0   N0  J18-U01       I-O  Lustre mount FAILED : bglio2 : block_id : loca...      0\n",
       "1  1128621350  R01-M1-N0  R01       M1   N0  J18-U11       I-O  Lustre mount FAILED : bglio21 : block_id : loc...      0\n",
       "2  1128621351  R07-M0-NC  R07       M0   NC  J18-U01       I-O  Lustre mount FAILED : bglio124 : block_id : lo...      0\n",
       "3  1128621351  R00-M0-N4  R00       M0   N4  J18-U01       I-O  Lustre mount FAILED : bglio4 : block_id : loca...      0\n",
       "4  1128621351  R02-M0-N4  R02       M0   N4  J18-U01       I-O  Lustre mount FAILED : bglio36 : block_id : loc...      0"
      ]
     },
     "execution_count": 8,
     "metadata": {},
     "output_type": "execute_result"
    }
   ],
   "source": [
    "# Definisco la finestra di coalescenza con valore 200.\n",
    "window = 200\n",
    "# Definisce il percorso del file CSV in cui verranno salvate le tuple di BGL.\n",
    "filepath = '2_BlueGeneL/Coalescenza_Temporale/Csv/BGL-Tuple.csv'\n",
    "# Esegue la fase di tupling sul DataFrame df_bgl, utilizzando la finestra di coalescenza definita e il percorso del file CSV.\n",
    "df_bgl = tupling(df_bgl, window, filepath)\n",
    "# Converte le colonne 'Timestamp' e 'Tuple' del DataFrame df_mercury in tipo di dati int32.\n",
    "df_bgl = df_bgl.astype({'Timestamp' : 'int32', 'Tuple' : 'int32'})\n",
    "df_bgl.head()"
   ]
  },
  {
   "cell_type": "code",
   "execution_count": 9,
   "metadata": {},
   "outputs": [
    {
     "name": "stdout",
     "output_type": "stream",
     "text": [
      "Numero di tuple:  403\n"
     ]
    }
   ],
   "source": [
    "# Calcola il numero massimo di tuple presente nella colonna 'Tuple' del DataFrame df_bgl\n",
    "num_tuple = df_bgl.max(axis = 0).loc['Tuple'] + 1\n",
    "print('Numero di tuple: ', num_tuple)"
   ]
  },
  {
   "cell_type": "code",
   "execution_count": 10,
   "metadata": {},
   "outputs": [
    {
     "data": {
      "text/html": [
       "<div>\n",
       "<style scoped>\n",
       "    .dataframe tbody tr th:only-of-type {\n",
       "        vertical-align: middle;\n",
       "    }\n",
       "\n",
       "    .dataframe tbody tr th {\n",
       "        vertical-align: top;\n",
       "    }\n",
       "\n",
       "    .dataframe thead th {\n",
       "        text-align: right;\n",
       "    }\n",
       "</style>\n",
       "<table border=\"1\" class=\"dataframe\">\n",
       "  <thead>\n",
       "    <tr style=\"text-align: right;\">\n",
       "      <th></th>\n",
       "      <th># Entries</th>\n",
       "      <th>Start time</th>\n",
       "      <th>End time</th>\n",
       "      <th>Length</th>\n",
       "      <th>Density</th>\n",
       "      <th>Interarrival</th>\n",
       "    </tr>\n",
       "    <tr>\n",
       "      <th>Tuple</th>\n",
       "      <th></th>\n",
       "      <th></th>\n",
       "      <th></th>\n",
       "      <th></th>\n",
       "      <th></th>\n",
       "      <th></th>\n",
       "    </tr>\n",
       "  </thead>\n",
       "  <tbody>\n",
       "    <tr>\n",
       "      <th>0</th>\n",
       "      <td>128</td>\n",
       "      <td>1128621350</td>\n",
       "      <td>1128621367</td>\n",
       "      <td>17</td>\n",
       "      <td>7.52941</td>\n",
       "      <td>NaN</td>\n",
       "    </tr>\n",
       "    <tr>\n",
       "      <th>1</th>\n",
       "      <td>1024</td>\n",
       "      <td>1128641281</td>\n",
       "      <td>1128641411</td>\n",
       "      <td>130</td>\n",
       "      <td>7.87692</td>\n",
       "      <td>19914</td>\n",
       "    </tr>\n",
       "    <tr>\n",
       "      <th>2</th>\n",
       "      <td>23</td>\n",
       "      <td>1128702415</td>\n",
       "      <td>1128702464</td>\n",
       "      <td>49</td>\n",
       "      <td>0.469388</td>\n",
       "      <td>61004</td>\n",
       "    </tr>\n",
       "    <tr>\n",
       "      <th>3</th>\n",
       "      <td>9</td>\n",
       "      <td>1128719240</td>\n",
       "      <td>1128719316</td>\n",
       "      <td>76</td>\n",
       "      <td>0.118421</td>\n",
       "      <td>16776</td>\n",
       "    </tr>\n",
       "    <tr>\n",
       "      <th>4</th>\n",
       "      <td>14</td>\n",
       "      <td>1128747957</td>\n",
       "      <td>1128748024</td>\n",
       "      <td>67</td>\n",
       "      <td>0.208955</td>\n",
       "      <td>28641</td>\n",
       "    </tr>\n",
       "  </tbody>\n",
       "</table>\n",
       "</div>"
      ],
      "text/plain": [
       "       # Entries  Start time    End time  Length  Density  Interarrival\n",
       "Tuple                                                                  \n",
       "0            128  1128621350  1128621367      17  7.52941           NaN\n",
       "1           1024  1128641281  1128641411     130  7.87692         19914\n",
       "2             23  1128702415  1128702464      49 0.469388         61004\n",
       "3              9  1128719240  1128719316      76 0.118421         16776\n",
       "4             14  1128747957  1128748024      67 0.208955         28641"
      ]
     },
     "execution_count": 10,
     "metadata": {},
     "output_type": "execute_result"
    }
   ],
   "source": [
    "df_sys_stat = statistics(df_bgl)\n",
    "df_sys_stat.head()"
   ]
  },
  {
   "cell_type": "code",
   "execution_count": 11,
   "metadata": {},
   "outputs": [
    {
     "data": {
      "image/png": "[encoded data removed]",
      "text/plain": [
       "<Figure size 1200x600 with 1 Axes>"
      ]
     },
     "metadata": {},
     "output_type": "display_data"
    }
   ],
   "source": [
    "# Assegna gli indici del dataframe 'df_sys_stat' alla variabile x\n",
    "x = df_sys_stat.index\n",
    "\n",
    "# Assegna i valori della colonna '# Entries' del dataframe 'df_sys_stat' alla variabile y\n",
    "y = df_sys_stat['# Entries']\n",
    "\n",
    "# Trova gli indici delle righe con il numero massimo di '# Entries'\n",
    "max_entries_indices = df_sys_stat[df_sys_stat['# Entries'] == df_sys_stat['# Entries'].max()].index\n",
    "\n",
    "# Filtra il dataframe originale utilizzando gli indici delle righe con il numero massimo di '# Entries'\n",
    "df_max_entries_range = df_sys_stat.loc[max_entries_indices]\n",
    "\n",
    "# Aggiungi una colonna 'Riga Tupla' che contiene il numero di riga corrispondente\n",
    "df_max_entries_range['Riga Tupla'] = df_max_entries_range.index\n",
    "\n",
    "# Salva il dataframe filtrato nel file CSV \"max_entries_range.csv\" senza includere gli indici\n",
    "df_max_entries_range.to_csv(\"2_BlueGeneL/Coalescenza_Temporale/Csv/max_entries_range.csv\", index=False)\n",
    "\n",
    "# Crea un grafico a dispersione con gli assi x e y\n",
    "plt.figure(figsize=(12,6))\n",
    "plt.scatter(x, y, marker='.',color='blue')\n",
    "plt.xlabel('Tuple')\n",
    "plt.ylabel('# Entrie')\n",
    "\n",
    "# Salva il grafico come file immagine PNG\n",
    "plt.savefig(\"2_BlueGeneL/Coalescenza_Temporale/immagini/BGL_System_Scatter_Entry.png\", format=\"png\",bbox_inches='tight')\n",
    "\n",
    "# Mostra il grafico\n",
    "plt.show()\n"
   ]
  },
  {
   "cell_type": "code",
   "execution_count": 12,
   "metadata": {},
   "outputs": [
    {
     "data": {
      "image/png": "[encoded data removed]",
      "text/plain": [
       "<Figure size 1200x600 with 1 Axes>"
      ]
     },
     "metadata": {},
     "output_type": "display_data"
    }
   ],
   "source": [
    "# Raggruppa il dataframe 'df_bgl' per le colonne 'Tuple' e 'Card type' e conta le occorrenze\n",
    "df_group = df_bgl.groupby(by=['Tuple','Card type']).count()\n",
    "\n",
    "# Crea una figura e un set di assi per il grafico con dimensioni specificate\n",
    "fig, ax = plt.subplots(figsize=(12,6))\n",
    "\n",
    "# Definisci i colori per i diversi tipi \n",
    "colors = ['blue', 'red']\n",
    "\n",
    "# Per ogni tipo di carta presente nella colonna 'Card type' del dataframe 'df_bgl'\n",
    "for i, card in enumerate(df_bgl['Card type'].unique()):\n",
    "    # Seleziona solo le righe del dataframe raggruppato che corrispondono al tipo di carta corrente\n",
    "    df_temp = df_group[df_group.index.get_level_values('Card type').isin([card])]\n",
    "    \n",
    "    # Estrapola gli indici di livello 0 dal dataframe temporaneo come coordinate x\n",
    "    x = df_temp.index.get_level_values(0)\n",
    "    \n",
    "    # Estrapola i valori della colonna 'Timestamp' dal dataframe temporaneo come coordinate y\n",
    "    y = df_temp['Timestamp']\n",
    "    \n",
    "    # Crea un grafico a dispersione utilizzando le coordinate x e y, con un'etichetta basata sul tipo di corrente e il colore specificato\n",
    "    plt.scatter(x, y, label=card, marker='.', color=colors[i])\n",
    "\n",
    "\n",
    "plt.legend()\n",
    "\n",
    "# Salva il grafico come file immagine PNG\n",
    "plt.savefig(\"2_BlueGeneL/Coalescenza_Temporale/immagini/BGL_System_Scatter_CardType.png\", format=\"png\",bbox_inches='tight')\n",
    "\n",
    "\n",
    "plt.show()\n",
    "\n"
   ]
  },
  {
   "cell_type": "markdown",
   "metadata": {},
   "source": [
    "### Analisi dei troncamenti"
   ]
  },
  {
   "cell_type": "markdown",
   "metadata": {},
   "source": [
    "#### La scelta della finestra di coalescenza influisce sul numero di troncamenti e collisioni commessi a causa del tupling.\n",
    "#### Per prima cosa si calcola il valore q corrispondente al 10° percentile (0.1 quantile) dei tempi di interarrivo. Tale valore è pari a 451 secondi (circa 8 minuti), piu del doppio della finestra di coalescenza utilizzata. \n"
   ]
  },
  {
   "cell_type": "code",
   "execution_count": 13,
   "metadata": {},
   "outputs": [
    {
     "name": "stdout",
     "output_type": "stream",
     "text": [
      "0.1 quantile: 451.90000000000003\n"
     ]
    }
   ],
   "source": [
    "# Calcola il quantile 0.1 della colonna 'Interarrival' del dataframe 'df_sys_stat' e assegna il valore alla variabile 'q'\n",
    "q = df_sys_stat['Interarrival'].quantile(q=0.1)\n",
    "\n",
    "# Stampa il valore del quantile 0.1\n",
    "print(\"0.1 quantile: \" + str(q))\n"
   ]
  },
  {
   "cell_type": "markdown",
   "metadata": {},
   "source": [
    "#### Si individuano poi tutte le coppie di tuple adiacenti che distano meno di questo valore. Per ognuna di queste coppie è possibile stimare un troncamento. Da tale stima si ottengono 41 troncamenti, il che significa che per circa il 10% delle tuple totali potrebbe essersi verificato un troncamento."
   ]
  },
  {
   "cell_type": "code",
   "execution_count": 14,
   "metadata": {},
   "outputs": [
    {
     "data": {
      "text/html": [
       "<div>\n",
       "<style scoped>\n",
       "    .dataframe tbody tr th:only-of-type {\n",
       "        vertical-align: middle;\n",
       "    }\n",
       "\n",
       "    .dataframe tbody tr th {\n",
       "        vertical-align: top;\n",
       "    }\n",
       "\n",
       "    .dataframe thead th {\n",
       "        text-align: right;\n",
       "    }\n",
       "</style>\n",
       "<table border=\"1\" class=\"dataframe\">\n",
       "  <thead>\n",
       "    <tr style=\"text-align: right;\">\n",
       "      <th></th>\n",
       "      <th># Entries</th>\n",
       "      <th>Start time</th>\n",
       "      <th>End time</th>\n",
       "      <th>Length</th>\n",
       "      <th>Density</th>\n",
       "      <th>Interarrival</th>\n",
       "    </tr>\n",
       "    <tr>\n",
       "      <th>Tuple</th>\n",
       "      <th></th>\n",
       "      <th></th>\n",
       "      <th></th>\n",
       "      <th></th>\n",
       "      <th></th>\n",
       "      <th></th>\n",
       "    </tr>\n",
       "  </thead>\n",
       "  <tbody>\n",
       "    <tr>\n",
       "      <th>11</th>\n",
       "      <td>1</td>\n",
       "      <td>1128868257</td>\n",
       "      <td>1128868257</td>\n",
       "      <td>0</td>\n",
       "      <td>inf</td>\n",
       "      <td>406</td>\n",
       "    </tr>\n",
       "    <tr>\n",
       "      <th>20</th>\n",
       "      <td>1</td>\n",
       "      <td>1129098173</td>\n",
       "      <td>1129098173</td>\n",
       "      <td>0</td>\n",
       "      <td>inf</td>\n",
       "      <td>397</td>\n",
       "    </tr>\n",
       "    <tr>\n",
       "      <th>29</th>\n",
       "      <td>1</td>\n",
       "      <td>1129223561</td>\n",
       "      <td>1129223561</td>\n",
       "      <td>0</td>\n",
       "      <td>inf</td>\n",
       "      <td>438</td>\n",
       "    </tr>\n",
       "    <tr>\n",
       "      <th>33</th>\n",
       "      <td>8</td>\n",
       "      <td>1129289944</td>\n",
       "      <td>1129289945</td>\n",
       "      <td>1</td>\n",
       "      <td>8</td>\n",
       "      <td>284</td>\n",
       "    </tr>\n",
       "    <tr>\n",
       "      <th>67</th>\n",
       "      <td>256</td>\n",
       "      <td>1129922826</td>\n",
       "      <td>1129922853</td>\n",
       "      <td>27</td>\n",
       "      <td>9.48148</td>\n",
       "      <td>320</td>\n",
       "    </tr>\n",
       "  </tbody>\n",
       "</table>\n",
       "</div>"
      ],
      "text/plain": [
       "       # Entries  Start time    End time  Length  Density  Interarrival\n",
       "Tuple                                                                  \n",
       "11             1  1128868257  1128868257       0      inf           406\n",
       "20             1  1129098173  1129098173       0      inf           397\n",
       "29             1  1129223561  1129223561       0      inf           438\n",
       "33             8  1129289944  1129289945       1        8           284\n",
       "67           256  1129922826  1129922853      27  9.48148           320"
      ]
     },
     "execution_count": 14,
     "metadata": {},
     "output_type": "execute_result"
    }
   ],
   "source": [
    "# Filtra il dataframe 'df_sys_stat' includendo solo le righe in cui il valore della colonna 'Interarrival' è minore o uguale al valore di 'q' (quantile 0.1)\n",
    "df_trunc = df_sys_stat.loc[df_sys_stat['Interarrival'] <= q]\n",
    "\n",
    "# Visualizza le prime righe del dataframe 'df_trunc'\n",
    "df_trunc.head()\n"
   ]
  },
  {
   "cell_type": "code",
   "execution_count": 15,
   "metadata": {},
   "outputs": [
    {
     "name": "stdout",
     "output_type": "stream",
     "text": [
      "Troncamenti: 41\n",
      "Percentuale troncamenti: 10.173697270471465\n"
     ]
    }
   ],
   "source": [
    "num_trunc = df_trunc.shape[0]\n",
    "perc_trunc = (num_trunc/num_tuple)*100\n",
    "\n",
    "print('Troncamenti:', num_trunc)\n",
    "print('Percentuale troncamenti:', perc_trunc)"
   ]
  },
  {
   "cell_type": "markdown",
   "metadata": {},
   "source": [
    "### Analisi delle collisioni"
   ]
  },
  {
   "cell_type": "markdown",
   "metadata": {},
   "source": [
    "#### Una prima soluzione prevede di calcolare numero di potenziali collisioni individuando il numero di tuple per le quali si hanno più rack di origine. Secondo questa soluzione vengono stimate 185 collisioni, il che significa che per circa il 45% delle tuple totali potrebbero essersi verificate collisioni\n",
    "#### Data la scelta opportuna della finestra di coalescenza, tale risultato sembra eccessivo.\n"
   ]
  },
  {
   "cell_type": "code",
   "execution_count": 16,
   "metadata": {},
   "outputs": [],
   "source": [
    "# Raggruppa il dataframe 'df_bgl' per le colonne 'Tuple' e 'Rack' e conta le occorrenze di ogni gruppo\n",
    "df_group = df_bgl.groupby(by=['Tuple','Rack']).count()\n",
    "\n",
    "# Re-imposta l'indice del dataframe 'df_group' al secondo livello (livello 1)\n",
    "df_group = df_group.reset_index(level=1)\n",
    "\n",
    "# Inizializza la variabile 'collided' a 0, che conterà il numero di gruppi che hanno collisioni\n",
    "collided = 0\n",
    "\n",
    "# Itera sui valori unici dell'indice del dataframe 'df_group'\n",
    "for tup in df_group.index.unique():\n",
    "    # Verifica se ci sono più righe nel dataframe 'df_group' che corrispondono al valore dell'indice corrente\n",
    "    if df_group.loc[df_group.index == tup].shape[0] > 1:\n",
    "        # Incrementa la variabile 'collided' se ci sono più righe, indicando che si è verificata una collisione\n",
    "        collided = collided + 1\n"
   ]
  },
  {
   "cell_type": "code",
   "execution_count": 17,
   "metadata": {},
   "outputs": [
    {
     "name": "stdout",
     "output_type": "stream",
     "text": [
      "Collisioni: 185\n",
      "Percentuale Collisioni:  45.90570719602978\n"
     ]
    }
   ],
   "source": [
    "perc_coll = (collided/num_tuple)*100\n",
    "\n",
    "print('Collisioni:', collided)\n",
    "print('Percentuale Collisioni: ', perc_coll)"
   ]
  },
  {
   "cell_type": "markdown",
   "metadata": {},
   "source": [
    "#### Si è pensato quindi di seguire un secondo approccio, secondo cui il numero di collisioni è dato dal numero di tuple per le quali si hanno più tipologie di card differenti, dove per tipologia di card si intende I-O o computation."
   ]
  },
  {
   "cell_type": "code",
   "execution_count": 18,
   "metadata": {},
   "outputs": [],
   "source": [
    "# Raggruppa il dataframe 'df_bgl' per le colonne 'Tuple' e 'Card type' e conta le occorrenze\n",
    "df_group = df_bgl.groupby(by=['Tuple','Card type']).count()\n",
    "\n",
    "# Resetta l'indice di livello 1 del dataframe 'df_group'\n",
    "df_group = df_group.reset_index(level=1)\n",
    "\n",
    "# Inizializza la variabile 'collided' a 0 per contare il numero di gruppi che presentano collisioni\n",
    "collided = 0\n",
    "\n",
    "# Itera su tutti i valori unici dell'indice del dataframe 'df_group'\n",
    "for tup in df_group.index.unique():\n",
    "    # Seleziona le righe del dataframe 'df_group' corrispondenti all'indice 'tup'\n",
    "    group = df_group.loc[df_group.index == tup]\n",
    "    \n",
    "    # Verifica se il numero di righe nel gruppo è maggiore di 1, indicando una collisione\n",
    "    if group.shape[0] > 1:\n",
    "        collided = collided + 1\n"
   ]
  },
  {
   "cell_type": "code",
   "execution_count": 19,
   "metadata": {},
   "outputs": [
    {
     "name": "stdout",
     "output_type": "stream",
     "text": [
      "Collisioni: 39\n",
      "Percentuale Collisioni:  9.67741935483871\n"
     ]
    }
   ],
   "source": [
    "perc_coll = (collided/num_tuple)*100\n",
    "\n",
    "print('Collisioni:', collided)\n",
    "print('Percentuale Collisioni: ', perc_coll)"
   ]
  },
  {
   "cell_type": "markdown",
   "metadata": {},
   "source": [
    "## Analisi da fare su matlab"
   ]
  },
  {
   "cell_type": "markdown",
   "metadata": {},
   "source": [
    "### Distribuzione empirica del tempo fino al Faulire"
   ]
  },
  {
   "cell_type": "markdown",
   "metadata": {},
   "source": [
    "### Empirical reliability"
   ]
  },
  {
   "cell_type": "code",
   "execution_count": 20,
   "metadata": {},
   "outputs": [
    {
     "data": {
      "image/png": "[encoded data removed]",
      "text/plain": [
       "<Figure size 1200x600 with 1 Axes>"
      ]
     },
     "metadata": {},
     "output_type": "display_data"
    }
   ],
   "source": [
    "# Crea un array numpy 'data_bgl' con i valori non nulli della colonna 'Interarrival' del dataframe 'df_sys_stat'\n",
    "data_bgl = df_sys_stat['Interarrival'].dropna().to_numpy()\n",
    "\n",
    "# Calcola la cumulative distribution function empirica (ECDF) dei dati 'data_bgl'\n",
    "ecdf = ECDF(data_bgl)\n",
    "\n",
    "# Crea una nuova figura con dimensioni specificate\n",
    "plt.figure(figsize=(12, 6))\n",
    "\n",
    "# Traccia il grafico dell'affidabilità empirica in rosso utilizzando il simbolo '|' come marker\n",
    "plt.plot(ecdf.x, 1 - ecdf.y, color='red', marker='|', markersize=5, label='empREL')\n",
    "\n",
    "# Traccia il grafico del tempo medio fino al fallimento (empirical Time-To-Failure, TTF) in viola utilizzando il simbolo '*' come marker\n",
    "plt.plot(ecdf.x, ecdf.y, color='blue', marker='*', markersize=5, label='empTTF')\n",
    "\n",
    "plt.xlabel('Time (s)')\n",
    "plt.ylabel('Probability')\n",
    "plt.legend()\n",
    "plt.grid()\n",
    "plt.savefig(\"2_BlueGeneL/BGL_System_Emp_Reliability.png\", format = \"png\",bbox_inches='tight')\n",
    "plt.show()"
   ]
  },
  {
   "cell_type": "markdown",
   "metadata": {},
   "source": [
    "### Analisi Generale"
   ]
  },
  {
   "cell_type": "code",
   "execution_count": 21,
   "metadata": {},
   "outputs": [
    {
     "name": "stdout",
     "output_type": "stream",
     "text": [
      "Messaggi di errore distinti: 25712\n"
     ]
    }
   ],
   "source": [
    "print('Messaggi di errore distinti:', df_bgl.groupby(by='Message').count().shape[0])"
   ]
  },
  {
   "cell_type": "code",
   "execution_count": 22,
   "metadata": {},
   "outputs": [],
   "source": [
    "# Inserisce una nuova colonna chiamata 'Message type' nel dataframe 'df_bgl' con valori NaN\n",
    "df_bgl.insert(len(df_bgl.columns), 'Message type', np.NaN)\n"
   ]
  },
  {
   "cell_type": "code",
   "execution_count": 23,
   "metadata": {},
   "outputs": [],
   "source": [
    "# Assegna il valore 'NET' alla colonna 'Message type' del dataframe 'df_bgl' per le righe in cui il testo 'socket' è presente nella colonna 'Message' e 'Message type' è NaN\n",
    "df_bgl.loc[df_bgl.Message.str.contains('socket') & df_bgl['Message type'].isnull(), 'Message type'] = 'NET'\n",
    "\n",
    "# Assegna il valore 'NET' alla colonna 'Message type' del dataframe 'df_bgl' per le righe in cui il testo 'packet' è presente nella colonna 'Message' e 'Message type' è NaN\n",
    "df_bgl.loc[df_bgl.Message.str.contains('packet') & df_bgl['Message type'].isnull(), 'Message type'] = 'NET'\n",
    "\n",
    "# Assegna il valore 'FS' alla colonna 'Message type' del dataframe 'df_bgl' per le righe in cui il testo 'Lustre mount' è presente nella colonna 'Message' e 'Message type' è NaN\n",
    "df_bgl.loc[df_bgl.Message.str.contains('Lustre mount') & df_bgl['Message type'].isnull(), 'Message type'] = 'FS'\n",
    "\n",
    "# Assegna il valore 'CACHE' alla colonna 'Message type' del dataframe 'df_bgl' per le righe in cui il testo 'cache' è presente nella colonna 'Message' e 'Message type' è NaN\n",
    "df_bgl.loc[df_bgl.Message.str.contains('cache') & df_bgl['Message type'].isnull(), 'Message type'] = 'CACHE'\n",
    "\n",
    "# Assegna il valore 'MEM' alla colonna 'Message type' del dataframe 'df_bgl' per le righe in cui il testo 'program image' è presente nella colonna 'Message' e 'Message type' è NaN\n",
    "df_bgl.loc[df_bgl.Message.str.contains('program image') & df_bgl['Message type'].isnull(), 'Message type'] = 'MEM'\n",
    "\n",
    "# Assegna il valore 'FS' alla colonna 'Message type' del dataframe 'df_bgl' per le righe in cui il testo 'directory' è presente nella colonna 'Message' e 'Message type' è NaN\n",
    "df_bgl.loc[df_bgl.Message.str.contains('directory') & df_bgl['Message type'].isnull(), 'Message type'] = 'FS'\n",
    "\n",
    "# Assegna il valore 'NET' alla colonna 'Message type' del dataframe 'df_bgl' per le righe in cui il testo 'link' è presente nella colonna 'Message' e 'Message type' è NaN\n",
    "df_bgl.loc[df_bgl.Message.str.contains('link') & df_bgl['Message type'].isnull(), 'Message type'] = 'NET'\n"
   ]
  },
  {
   "cell_type": "code",
   "execution_count": null,
   "metadata": {},
   "outputs": [],
   "source": [
    "# Raggruppa il dataframe 'df_bgl' in base alla colonna 'Message type' e conta il numero di occorrenze di 'Timestamp' per ogni gruppo. Quindi ordina i risultati in ordine discendente.\n",
    "count_by_message_type = df_bgl.groupby(by='Message type').Timestamp.count().sort_values(ascending=False)\n",
    "\n",
    "# Traccia un grafico a barre dei conteggi ottenuti\n",
    "count_by_message_type.plot.bar(figsize=(6, 6))\n",
    "\n",
    "# Salva il grafico a barre sul file PNG specificato.\n",
    "plt.savefig(\"2_BlueGeneL/Coalescenza_Temporale/immagini/BGL_System_Bar_Message.png\", format=\"png\",bbox_inches='tight')\n",
    "\n",
    "\n",
    "plt.show()\n"
   ]
  },
  {
   "cell_type": "markdown",
   "metadata": {},
   "source": [
    "# Top Racks"
   ]
  },
  {
   "cell_type": "code",
   "execution_count": null,
   "metadata": {},
   "outputs": [],
   "source": [
    "print('Numero di rack che generano errori: ' + str(len(df_bgl['Rack'].unique())))"
   ]
  },
  {
   "cell_type": "code",
   "execution_count": null,
   "metadata": {},
   "outputs": [],
   "source": [
    "plt.figure(figsize=(6,12))\n",
    "# Raggruppa il dataframe 'df_bgl' in base alla colonna 'Rack' e conta il numero di occorrenze per ogni valore di 'Rack'\n",
    "grouped_counts = df_bgl.groupby(by='Rack').Timestamp.count()\n",
    "\n",
    "# Ordina i risultati in base al conteggio delle occorrenze e traccia un grafico a barre orizzontali\n",
    "grouped_counts.sort_values().plot.barh()\n",
    "\n",
    "# Salva il grafico in un file immagine\n",
    "plt.savefig(\"2_BlueGeneL/Coalescenza_Temporale/immagini/BGL_System_Bar_Rack.png\", format=\"png\",bbox_inches='tight)\n",
    "\n",
    "# Mostra il grafico\n",
    "plt.show()\n",
    "\n",
    "\n",
    "\n",
    "\n",
    "\n"
   ]
  },
  {
   "cell_type": "markdown",
   "metadata": {},
   "source": [
    "#### Il sistema è fatto da 64 rack e gli errori sono distribuiti come nella figura sopra.\n",
    "#### sotto si estraggono gli n rack con piu falliemnti, per fare analisi per i rack piu problematici."
   ]
  },
  {
   "cell_type": "code",
   "execution_count": null,
   "metadata": {},
   "outputs": [],
   "source": [
    "# Imposta il numero desiderato di top rack da selezionare\n",
    "n = 8\n",
    "\n",
    "# Trova i top rack selezionando i primi 'n' rack con il numero maggiore di occorrenze, ordinati in ordine decrescente\n",
    "top_rack = df_bgl.groupby(by=['Rack']).Timestamp.count().sort_values(ascending=False)[0:n].index\n",
    "\n",
    "# Crea un nuovo DataFrame df_top_rack che contiene solo le righe del DataFrame originale df_bgl corrispondenti ai top rack\n",
    "df_top_rack = pd.concat([df_bgl[df_bgl['Rack'] == rack] for rack in top_rack])\n",
    "\n",
    "# Stampa il numero di righe e colonne presenti nel DataFrame df_top_rack utilizzando il metodo 'shape'\n",
    "print('Il DataFrame ha ' + str(df_top_rack.shape[0]) + ' righe e ' + str(df_top_rack.shape[1]) + ' colonne.')\n",
    "\n",
    "\n",
    "df_top_rack.head()\n",
    "\n"
   ]
  },
  {
   "cell_type": "code",
   "execution_count": null,
   "metadata": {},
   "outputs": [],
   "source": [
    "import seaborn as sns\n",
    "import matplotlib.pyplot as plt\n",
    "import pandas as pd\n",
    "import numpy as np\n",
    "\n",
    "# Calcola il conteggio delle occorrenze di Timestamp raggruppate per Rack e Midplane nel DataFrame df_top_rack\n",
    "occurrences = df_top_rack.groupby(by=['Rack', 'Midplane']).Timestamp.count()\n",
    "\n",
    "# Trasforma i dati in una matrice con Rack come indice e Midplane come colonne utilizzando il metodo unstack(1)\n",
    "occurrences_matrix = occurrences.unstack(1)\n",
    "\n",
    "# Genera il grafico a heatmap\n",
    "fig, ax = plt.subplots(figsize=(8, 6))\n",
    "sns.heatmap(occurrences_matrix, cmap='Blues', annot=True, fmt='d', cbar=False, ax=ax)\n",
    "\n",
    "# Personalizza l'aspetto del grafico\n",
    "ax.set_xlabel('Midplane')\n",
    "ax.set_ylabel('Rack')\n",
    "ax.set_title('Occorrenze di Rack e Midplane')\n",
    "\n",
    "# Salva il grafico come file immagine nel formato PNG\n",
    "plt.savefig(\"2_BlueGeneL/Coalescenza_Temporale/immagini/BGL_Rack_Heatmap_Rack_Midplane.png\", format=\"png\",bbox_inches='tight')\n",
    "\n",
    "# Mostra il grafico\n",
    "plt.show()\n",
    "\n"
   ]
  },
  {
   "cell_type": "markdown",
   "metadata": {},
   "source": [
    "#### ogni rack ha 2 midplane. gli errori trai midplane sono piu o meno bilanciati tranne qualcuno. il 63 a differenza degli altri ha un midplain spopositato"
   ]
  },
  {
   "cell_type": "code",
   "execution_count": null,
   "metadata": {},
   "outputs": [],
   "source": [
    "\n",
    "# Calcola il conteggio delle occorrenze di Timestamp raggruppate per Rack, Midplane e Node nel DataFrame df_top_rack\n",
    "count_df = df_top_rack.groupby(by=['Rack', 'Midplane', 'Node']).Timestamp.count().unstack(2)\n",
    "\n",
    "# Gestisci i valori non validi sostituendoli con zero\n",
    "count_df = count_df.fillna(0)\n",
    "\n",
    "# Converti i valori in interi\n",
    "count_df = count_df.astype(int)\n",
    "\n",
    "# Genera il grafico a heatmap con la mappa dei colori 'Blues'\n",
    "fig, ax = plt.subplots(figsize=(10, 8))\n",
    "sns.heatmap(count_df, cmap='Blues', annot=True, fmt='d', cbar=False, ax=ax)\n",
    "\n",
    "# Personalizza l'aspetto del grafico\n",
    "ax.set_xlabel('Node')\n",
    "ax.set_ylabel('Rack, Midplane')\n",
    "ax.set_title('Occorrenze di Rack, Midplane e Node')\n",
    "\n",
    "# Salva il grafico come file immagine nel formato PNG\n",
    "plt.savefig(\"2_BlueGeneL/Coalescenza_Temporale/immagini/BGL_Rack_Heatmap_Rack_Midplane_Node.png\", format=\"png\",bbox_inches='tight')\n",
    "\n",
    "# Mostra il grafico\n",
    "plt.show()\n",
    "\n"
   ]
  },
  {
   "cell_type": "markdown",
   "metadata": {},
   "source": [
    " #### Si nota che:\n",
    "- r63 fa pena, non c è un singolo nodo che non è zero\n",
    "- r71 ha il nodo con piu fallimenti di tutto il sistema,un N4 che fa IO\n",
    "- r12 pure, sempre un nodo di IO (N0)\n",
    "- r03 pure esplode un nodo di computation\n",
    "- tutti i nodi hanno errori sui 4 nodi che hanno scheda di IO "
   ]
  },
  {
   "cell_type": "markdown",
   "metadata": {},
   "source": [
    "# Card Types"
   ]
  },
  {
   "cell_type": "code",
   "execution_count": null,
   "metadata": {},
   "outputs": [],
   "source": [
    "# Estrae i valori unici dalla colonna 'Card type' del DataFrame df_bgl\n",
    "types = df_bgl['Card type'].unique()\n"
   ]
  },
  {
   "cell_type": "code",
   "execution_count": null,
   "metadata": {},
   "outputs": [],
   "source": [
    "\n",
    "plt.figure(figsize=(6,6))\n",
    "\n",
    "# Raggruppa il DataFrame df_bgl per 'Card type' e conta il numero di occorrenze nella colonna 'Timestamp'\n",
    "# Quindi, ordina i risultati in base al conteggio e traccia un grafico a barre\n",
    "df_bgl.groupby(by='Card type').Timestamp.count().sort_values().plot.bar(figsize=(6,6))\n",
    "\n",
    "# Salva il grafico a barre come immagine PNG\n",
    "plt.savefig(\"2_BlueGeneL/Coalescenza_Temporale/immagini/BGL_Card_Bar_Type.png\", format = \"png\",bbox_inches='tight')\n",
    "\n",
    "\n",
    "plt.show()\n"
   ]
  },
  {
   "cell_type": "markdown",
   "metadata": {},
   "source": [
    "sopra si vede che fondamentamente ci sono problemi con il sistema di IO."
   ]
  },
  {
   "cell_type": "code",
   "execution_count": null,
   "metadata": {},
   "outputs": [],
   "source": [
    "\n",
    "plt.figure(figsize=(6,12))\n",
    "\n",
    "# Raggruppa il DataFrame df_bgl per 'Card' e conta il numero di occorrenze nella colonna 'Timestamp'\n",
    "# Quindi, ordina i risultati in base al conteggio e traccia un grafico a barre orizzontale\n",
    "df_bgl.groupby(by='Card').Timestamp.count().sort_values().plot.barh(figsize=(6,12))\n",
    "\n",
    "# Salva il grafico a barre orizzontale come immagine PNG\n",
    "plt.savefig(\"2_BlueGeneL/Coalescenza_Temporale/immagini/BGL_Card_Bar_Node.png\", format = \"png\",bbox_inches='tight')\n",
    "\n",
    "\n",
    "plt.show()\n"
   ]
  },
  {
   "cell_type": "markdown",
   "metadata": {},
   "source": [
    "gli errori sono bilanciati tra le due card di ogni tipologia."
   ]
  },
  {
   "cell_type": "code",
   "execution_count": null,
   "metadata": {},
   "outputs": [],
   "source": [
    "\n",
    "\n",
    "# Raggruppa il DataFrame df_bgl per le colonne 'Rack' e 'Card type',\n",
    "# conta il numero di occorrenze nella colonna 'Timestamp'\n",
    "# e crea una tabella pivot in cui le colonne corrispondono ai diversi valori di 'Card type'\n",
    "pivot_table = df_bgl.groupby(by=['Rack', 'Card type']).Timestamp.count().unstack(1)\n",
    "\n",
    "# Imposta i colori desiderati\n",
    "colors = ['blue', 'red']\n",
    "\n",
    "# Crea il grafico a barre orizzontale utilizzando i colori specificati\n",
    "pivot_table.plot.barh(figsize=(6, 15), color=colors)\n",
    "\n",
    "# Salva il grafico a barre orizzontale come immagine PNG\n",
    "plt.savefig(\"2_BlueGeneL/Coalescenza_Temporale/immagini/BGL_Card_Bar_Rack_Type.png\", format=\"png\",bbox_inches='tight')\n",
    "\n",
    "plt.show()\n",
    "\n"
   ]
  },
  {
   "cell_type": "markdown",
   "metadata": {},
   "source": [
    "da questa immagine vediamo che i problemi di IO sono comuni a quasi tutti i rack.\n",
    "un altro fatto interessante è che i rack più critici non hanno solo problemi con l'IO ma anche  con le card di computation"
   ]
  },
  {
   "cell_type": "markdown",
   "metadata": {},
   "source": [
    "# Top Nodes"
   ]
  },
  {
   "cell_type": "code",
   "execution_count": null,
   "metadata": {},
   "outputs": [],
   "source": [
    "# Stampa il numero di nodi unici che generano errori nel DataFrame df_bgl\n",
    "print('Numero di nodi che generano errori: ' + str(len(df_bgl['ID-Node'].unique())))\n"
   ]
  },
  {
   "cell_type": "code",
   "execution_count": null,
   "metadata": {},
   "outputs": [],
   "source": [
    "n = 5\n",
    "\n",
    "# Calcola i top n nodi con il numero maggiore di errori nel DataFrame df_bgl\n",
    "top_node = df_bgl.groupby(by=['ID-Node']).Timestamp.count().sort_values(ascending=False)[0:n].index\n",
    "\n",
    "# Crea un nuovo DataFrame df_top_node che contiene solo le righe corrispondenti ai top n nodi\n",
    "df_top_node = pd.concat([df_bgl[df_bgl['ID-Node'] == node] for node in top_node])\n",
    "\n",
    "# Stampa il numero di righe e colonne presenti nel DataFrame df_top_node\n",
    "print('Il DataFrame df_top_node ha ' + str(df_top_node.shape[0]) + ' righe e ' + str(df_top_node.shape[1]) + ' colonne.')\n",
    "\n",
    "# Stampa le prime righe del DataFrame df_top_node\n",
    "df_top_node.head()\n"
   ]
  },
  {
   "cell_type": "code",
   "execution_count": null,
   "metadata": {},
   "outputs": [],
   "source": [
    "# Raggruppa il DataFrame df_top_node per 'ID-Node' e conta il numero di occorrenze di 'Timestamp' per ciascun nodo\n",
    "node_counts = df_top_node.groupby(by='ID-Node').Timestamp.count()\n",
    "\n",
    "# Crea un grafico a barre orizzontali con i conteggi dei nodi\n",
    "plt.figure(figsize=(6, 6))\n",
    "node_counts.sort_values(ascending=True).plot.barh()\n",
    "\n",
    "# Salva il grafico come immagine PNG\n",
    "plt.savefig(\"2_BlueGeneL/Coalescenza_Temporale/immagini/BGL_Node_Bar.png\", format=\"png\",bbox_inches='tight')\n",
    "\n",
    "# Mostra il grafico\n",
    "plt.show()\n"
   ]
  },
  {
   "cell_type": "markdown",
   "metadata": {},
   "source": [
    "#### Coincide con lo script UStatistics"
   ]
  },
  {
   "cell_type": "markdown",
   "metadata": {},
   "source": [
    "## Mercury vs Blue Gene/L"
   ]
  },
  {
   "cell_type": "code",
   "execution_count": null,
   "metadata": {},
   "outputs": [],
   "source": [
    "# Legge il file di log 'MercuryErrorLog.txt' e lo carica nel DataFrame df_mercury.\n",
    "# Assegna i nomi di colonna 'Timestamp', 'Node', 'Subsystem' e 'Message'.\n",
    "df_mercury = pd.read_table('1_Mercury/MercuryErrorLog.txt', names=['Timestamp', 'Node', 'Subsystem', 'Message'])\n",
    "\n",
    "# Esegue il parsing della colonna 'Timestamp' per estrarre il valore 'Node'.\n",
    "df_mercury.loc[:, 'Node'] = df_mercury['Timestamp'].str.split(' ', n=3).str[1]\n",
    "\n",
    "# Esegue il parsing della colonna 'Timestamp' per estrarre il valore 'Subsystem'.\n",
    "df_mercury.loc[:, 'Subsystem'] = df_mercury['Timestamp'].str.split(' ', n=3).str[2]\n",
    "\n",
    "# Esegue il parsing della colonna 'Timestamp' per estrarre il valore 'Message'.\n",
    "df_mercury.loc[:, 'Message'] = df_mercury['Timestamp'].str.split(' ', n=3).str[3]\n",
    "\n",
    "# Esegue il parsing della colonna 'Timestamp' per estrarre il valore 'Timestamp' corretto.\n",
    "df_mercury.loc[:, 'Timestamp'] = df_mercury['Timestamp'].str.split(' ', n=3).str[0]\n",
    "\n",
    "# Assegna un valore 'Type' basato sul contenuto della colonna 'Node'.\n",
    "df_mercury.loc[df_mercury['Node'].str.contains('login'), 'Type'] = 'login'\n",
    "df_mercury.loc[df_mercury['Node'].str.contains('c'), 'Type'] = 'computation'\n",
    "df_mercury.loc[df_mercury['Node'].str.contains('s'), 'Type'] = 'storage'\n",
    "df_mercury.loc[df_mercury['Node'].str.contains('master'), 'Type'] = 'master'\n",
    "\n",
    "\n",
    "window = 200\n",
    "\n",
    "filepath = '1_Mercury/Mercury-Data.csv'\n",
    "\n",
    "df_mercury = tupling(df_mercury, window, filepath)\n",
    "df_mercury = df_mercury.astype({'Timestamp' : 'int32', 'Tuple' : 'int32'})\n",
    "\n",
    "df_sys_stat = statistics(df_mercury)\n",
    "\n",
    "\n",
    "data = df_sys_stat['Interarrival'].dropna().to_numpy()\n",
    "\n",
    "ecdf = ECDF(data)\n",
    "ecdf_bgl = ECDF(data_bgl)\n",
    "\n",
    "plt.figure(figsize=(12,6))\n",
    "    \n",
    "plt.plot(ecdf.x, 1-ecdf.y,color='blue', marker='*',markersize=5, label = 'Empirical Reliability Mercury')\n",
    "plt.plot(ecdf_bgl.x, 1-ecdf_bgl.y,color='red', marker='+',markersize=5, label = 'Empirical Reliability Blue Gene/L')\n",
    "\n",
    "\n",
    "plt.legend()\n",
    "plt.grid()\n",
    "plt.savefig(\"2_BlueGeneL/Coalescenza_Temporale/immagini/Mercury_BGL_Comparison.png\", format = \"png\",bbox_inches='tight')\n",
    "plt.show()"
   ]
  },
  {
   "cell_type": "code",
   "execution_count": null,
   "metadata": {},
   "outputs": [],
   "source": []
  }
 ],
 "metadata": {
  "kernelspec": {
   "display_name": "Python 3 (ipykernel)",
   "language": "python",
   "name": "python3"
  },
  "language_info": {
   "codemirror_mode": {
    "name": "ipython",
    "version": 3
   },
   "file_extension": ".py",
   "mimetype": "text/x-python",
   "name": "python",
   "nbconvert_exporter": "python",
   "pygments_lexer": "ipython3",
   "version": "3.9.16"
  },
  "toc": {
   "base_numbering": 1,
   "nav_menu": {},
   "number_sections": true,
   "sideBar": true,
   "skip_h1_title": false,
   "title_cell": "Table of Contents",
   "title_sidebar": "Contents",
   "toc_cell": false,
   "toc_position": {
    "height": "calc(100% - 180px)",
    "left": "10px",
    "top": "150px",
    "width": "351px"
   },
   "toc_section_display": true,
   "toc_window_display": true
  },
  "toc-autonumbering": true,
  "toc-showcode": false,
  "toc-showmarkdowntxt": false,
  "toc-showtags": false
 },
 "nbformat": 4,
 "nbformat_minor": 4
}
